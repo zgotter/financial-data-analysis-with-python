{
 "cells": [
  {
   "cell_type": "markdown",
   "metadata": {},
   "source": [
    "# 4. 개별 종목 일별 시세 수집 및 시각화"
   ]
  },
  {
   "cell_type": "markdown",
   "metadata": {},
   "source": [
    "## 4.1 라이브러리 불러오기"
   ]
  },
  {
   "cell_type": "code",
   "execution_count": 7,
   "metadata": {},
   "outputs": [],
   "source": [
    "import pandas as pd\n",
    "import FinanceDataReader as fdr\n",
    "import warnings\n",
    "warnings.filterwarnings('ignore')"
   ]
  },
  {
   "cell_type": "markdown",
   "metadata": {},
   "source": [
    "<br>\n",
    "\n",
    "## 4.2 일별 시세 수집\n",
    "\n",
    "- 종목 코드로 수집 가능\n",
    "- 종목명을 찾아서 일별 시세를 수집해주는 함수 구현"
   ]
  },
  {
   "cell_type": "markdown",
   "metadata": {},
   "source": [
    "<br>\n",
    "\n",
    "### 4.2.1 삼성전자 일별 시세 가져오기"
   ]
  },
  {
   "cell_type": "code",
   "execution_count": 6,
   "metadata": {},
   "outputs": [
    {
     "data": {
      "text/html": [
       "<div>\n",
       "<style scoped>\n",
       "    .dataframe tbody tr th:only-of-type {\n",
       "        vertical-align: middle;\n",
       "    }\n",
       "\n",
       "    .dataframe tbody tr th {\n",
       "        vertical-align: top;\n",
       "    }\n",
       "\n",
       "    .dataframe thead th {\n",
       "        text-align: right;\n",
       "    }\n",
       "</style>\n",
       "<table border=\"1\" class=\"dataframe\">\n",
       "  <thead>\n",
       "    <tr style=\"text-align: right;\">\n",
       "      <th></th>\n",
       "      <th>Open</th>\n",
       "      <th>High</th>\n",
       "      <th>Low</th>\n",
       "      <th>Close</th>\n",
       "      <th>Volume</th>\n",
       "      <th>Change</th>\n",
       "    </tr>\n",
       "    <tr>\n",
       "      <th>Date</th>\n",
       "      <th></th>\n",
       "      <th></th>\n",
       "      <th></th>\n",
       "      <th></th>\n",
       "      <th></th>\n",
       "      <th></th>\n",
       "    </tr>\n",
       "  </thead>\n",
       "  <tbody>\n",
       "    <tr>\n",
       "      <th>2017-01-02</th>\n",
       "      <td>35980</td>\n",
       "      <td>36240</td>\n",
       "      <td>35880</td>\n",
       "      <td>36100</td>\n",
       "      <td>93012</td>\n",
       "      <td>0.001665</td>\n",
       "    </tr>\n",
       "    <tr>\n",
       "      <th>2017-01-03</th>\n",
       "      <td>36280</td>\n",
       "      <td>36620</td>\n",
       "      <td>36020</td>\n",
       "      <td>36480</td>\n",
       "      <td>147153</td>\n",
       "      <td>0.010526</td>\n",
       "    </tr>\n",
       "    <tr>\n",
       "      <th>2017-01-04</th>\n",
       "      <td>36500</td>\n",
       "      <td>36520</td>\n",
       "      <td>36100</td>\n",
       "      <td>36160</td>\n",
       "      <td>159435</td>\n",
       "      <td>-0.008772</td>\n",
       "    </tr>\n",
       "    <tr>\n",
       "      <th>2017-01-05</th>\n",
       "      <td>36060</td>\n",
       "      <td>36060</td>\n",
       "      <td>35540</td>\n",
       "      <td>35560</td>\n",
       "      <td>219349</td>\n",
       "      <td>-0.016593</td>\n",
       "    </tr>\n",
       "    <tr>\n",
       "      <th>2017-01-06</th>\n",
       "      <td>36180</td>\n",
       "      <td>36440</td>\n",
       "      <td>36040</td>\n",
       "      <td>36200</td>\n",
       "      <td>177619</td>\n",
       "      <td>0.017998</td>\n",
       "    </tr>\n",
       "  </tbody>\n",
       "</table>\n",
       "</div>"
      ],
      "text/plain": [
       "             Open   High    Low  Close  Volume    Change\n",
       "Date                                                    \n",
       "2017-01-02  35980  36240  35880  36100   93012  0.001665\n",
       "2017-01-03  36280  36620  36020  36480  147153  0.010526\n",
       "2017-01-04  36500  36520  36100  36160  159435 -0.008772\n",
       "2017-01-05  36060  36060  35540  35560  219349 -0.016593\n",
       "2017-01-06  36180  36440  36040  36200  177619  0.017998"
      ]
     },
     "execution_count": 6,
     "metadata": {},
     "output_type": "execute_result"
    }
   ],
   "source": [
    "df = fdr.DataReader('005930', start='2017', end='2021')\n",
    "df.head()"
   ]
  },
  {
   "cell_type": "code",
   "execution_count": 11,
   "metadata": {},
   "outputs": [
    {
     "data": {
      "text/plain": [
       "<AxesSubplot:xlabel='Date'>"
      ]
     },
     "execution_count": 11,
     "metadata": {},
     "output_type": "execute_result"
    },
    {
     "data": {
      "image/png": "[encoded data removed]",
      "text/plain": [
       "<Figure size 720x288 with 1 Axes>"
      ]
     },
     "metadata": {
      "needs_background": "light"
     },
     "output_type": "display_data"
    }
   ],
   "source": [
    "df['Close'].plot(figsize=(10,4))"
   ]
  },
  {
   "cell_type": "markdown",
   "metadata": {},
   "source": [
    "<br>\n",
    "\n",
    "### 4.2.2 상장종목 목록 가져오기"
   ]
  },
  {
   "cell_type": "code",
   "execution_count": 13,
   "metadata": {},
   "outputs": [
    {
     "data": {
      "text/plain": [
       "(2614, 10)"
      ]
     },
     "execution_count": 13,
     "metadata": {},
     "output_type": "execute_result"
    }
   ],
   "source": [
    "df_krx = pd.read_csv('krx.csv')\n",
    "df_krx.shape"
   ]
  },
  {
   "cell_type": "code",
   "execution_count": 14,
   "metadata": {},
   "outputs": [
    {
     "data": {
      "text/html": [
       "<div>\n",
       "<style scoped>\n",
       "    .dataframe tbody tr th:only-of-type {\n",
       "        vertical-align: middle;\n",
       "    }\n",
       "\n",
       "    .dataframe tbody tr th {\n",
       "        vertical-align: top;\n",
       "    }\n",
       "\n",
       "    .dataframe thead th {\n",
       "        text-align: right;\n",
       "    }\n",
       "</style>\n",
       "<table border=\"1\" class=\"dataframe\">\n",
       "  <thead>\n",
       "    <tr style=\"text-align: right;\">\n",
       "      <th></th>\n",
       "      <th>Symbol</th>\n",
       "      <th>Market</th>\n",
       "      <th>Name</th>\n",
       "      <th>Sector</th>\n",
       "      <th>Industry</th>\n",
       "      <th>ListingDate</th>\n",
       "      <th>SettleMonth</th>\n",
       "      <th>Representative</th>\n",
       "      <th>HomePage</th>\n",
       "      <th>Region</th>\n",
       "    </tr>\n",
       "  </thead>\n",
       "  <tbody>\n",
       "    <tr>\n",
       "      <th>0</th>\n",
       "      <td>060310</td>\n",
       "      <td>KOSDAQ</td>\n",
       "      <td>3S</td>\n",
       "      <td>특수 목적용 기계 제조업</td>\n",
       "      <td>반도체 웨이퍼 캐리어</td>\n",
       "      <td>2002-04-23</td>\n",
       "      <td>03월</td>\n",
       "      <td>박종익, 김세완 (각자 대표이사)</td>\n",
       "      <td>http://www.3sref.com</td>\n",
       "      <td>서울특별시</td>\n",
       "    </tr>\n",
       "    <tr>\n",
       "      <th>1</th>\n",
       "      <td>095570</td>\n",
       "      <td>KOSPI</td>\n",
       "      <td>AJ네트웍스</td>\n",
       "      <td>산업용 기계 및 장비 임대업</td>\n",
       "      <td>렌탈(파렛트, OA장비, 건설장비)</td>\n",
       "      <td>2015-08-21</td>\n",
       "      <td>12월</td>\n",
       "      <td>이현우</td>\n",
       "      <td>http://www.ajnet.co.kr</td>\n",
       "      <td>서울특별시</td>\n",
       "    </tr>\n",
       "    <tr>\n",
       "      <th>2</th>\n",
       "      <td>006840</td>\n",
       "      <td>KOSPI</td>\n",
       "      <td>AK홀딩스</td>\n",
       "      <td>기타 금융업</td>\n",
       "      <td>지주사업</td>\n",
       "      <td>1999-08-11</td>\n",
       "      <td>12월</td>\n",
       "      <td>채형석, 이석주(각자 대표이사)</td>\n",
       "      <td>http://www.aekyunggroup.co.kr</td>\n",
       "      <td>서울특별시</td>\n",
       "    </tr>\n",
       "    <tr>\n",
       "      <th>3</th>\n",
       "      <td>054620</td>\n",
       "      <td>KOSDAQ</td>\n",
       "      <td>APS홀딩스</td>\n",
       "      <td>기타 금융업</td>\n",
       "      <td>인터넷 트래픽 솔루션</td>\n",
       "      <td>2001-12-04</td>\n",
       "      <td>12월</td>\n",
       "      <td>정기로</td>\n",
       "      <td>http://www.apsholdings.co.kr</td>\n",
       "      <td>경기도</td>\n",
       "    </tr>\n",
       "    <tr>\n",
       "      <th>4</th>\n",
       "      <td>265520</td>\n",
       "      <td>KOSDAQ</td>\n",
       "      <td>AP시스템</td>\n",
       "      <td>특수 목적용 기계 제조업</td>\n",
       "      <td>디스플레이 제조 장비</td>\n",
       "      <td>2017-04-07</td>\n",
       "      <td>12월</td>\n",
       "      <td>김영주</td>\n",
       "      <td>http://www.apsystems.co.kr</td>\n",
       "      <td>경기도</td>\n",
       "    </tr>\n",
       "  </tbody>\n",
       "</table>\n",
       "</div>"
      ],
      "text/plain": [
       "   Symbol  Market    Name           Sector             Industry ListingDate  \\\n",
       "0  060310  KOSDAQ      3S    특수 목적용 기계 제조업          반도체 웨이퍼 캐리어  2002-04-23   \n",
       "1  095570   KOSPI  AJ네트웍스  산업용 기계 및 장비 임대업  렌탈(파렛트, OA장비, 건설장비)  2015-08-21   \n",
       "2  006840   KOSPI   AK홀딩스           기타 금융업                 지주사업  1999-08-11   \n",
       "3  054620  KOSDAQ  APS홀딩스           기타 금융업          인터넷 트래픽 솔루션  2001-12-04   \n",
       "4  265520  KOSDAQ   AP시스템    특수 목적용 기계 제조업          디스플레이 제조 장비  2017-04-07   \n",
       "\n",
       "  SettleMonth      Representative                       HomePage Region  \n",
       "0         03월  박종익, 김세완 (각자 대표이사)           http://www.3sref.com  서울특별시  \n",
       "1         12월                 이현우         http://www.ajnet.co.kr  서울특별시  \n",
       "2         12월   채형석, 이석주(각자 대표이사)  http://www.aekyunggroup.co.kr  서울특별시  \n",
       "3         12월                 정기로   http://www.apsholdings.co.kr    경기도  \n",
       "4         12월                 김영주     http://www.apsystems.co.kr    경기도  "
      ]
     },
     "execution_count": 14,
     "metadata": {},
     "output_type": "execute_result"
    }
   ],
   "source": [
    "df_krx.head()"
   ]
  },
  {
   "cell_type": "markdown",
   "metadata": {},
   "source": [
    "<br>\n",
    "\n",
    "### 4.2.3 종목명과 종목코드 추출하기"
   ]
  },
  {
   "cell_type": "code",
   "execution_count": 16,
   "metadata": {},
   "outputs": [
    {
     "data": {
      "text/html": [
       "<div>\n",
       "<style scoped>\n",
       "    .dataframe tbody tr th:only-of-type {\n",
       "        vertical-align: middle;\n",
       "    }\n",
       "\n",
       "    .dataframe tbody tr th {\n",
       "        vertical-align: top;\n",
       "    }\n",
       "\n",
       "    .dataframe thead th {\n",
       "        text-align: right;\n",
       "    }\n",
       "</style>\n",
       "<table border=\"1\" class=\"dataframe\">\n",
       "  <thead>\n",
       "    <tr style=\"text-align: right;\">\n",
       "      <th></th>\n",
       "      <th>Symbol</th>\n",
       "      <th>Name</th>\n",
       "    </tr>\n",
       "  </thead>\n",
       "  <tbody>\n",
       "    <tr>\n",
       "      <th>0</th>\n",
       "      <td>060310</td>\n",
       "      <td>3S</td>\n",
       "    </tr>\n",
       "    <tr>\n",
       "      <th>1</th>\n",
       "      <td>095570</td>\n",
       "      <td>AJ네트웍스</td>\n",
       "    </tr>\n",
       "    <tr>\n",
       "      <th>2</th>\n",
       "      <td>006840</td>\n",
       "      <td>AK홀딩스</td>\n",
       "    </tr>\n",
       "    <tr>\n",
       "      <th>3</th>\n",
       "      <td>054620</td>\n",
       "      <td>APS홀딩스</td>\n",
       "    </tr>\n",
       "    <tr>\n",
       "      <th>4</th>\n",
       "      <td>265520</td>\n",
       "      <td>AP시스템</td>\n",
       "    </tr>\n",
       "  </tbody>\n",
       "</table>\n",
       "</div>"
      ],
      "text/plain": [
       "   Symbol    Name\n",
       "0  060310      3S\n",
       "1  095570  AJ네트웍스\n",
       "2  006840   AK홀딩스\n",
       "3  054620  APS홀딩스\n",
       "4  265520   AP시스템"
      ]
     },
     "execution_count": 16,
     "metadata": {},
     "output_type": "execute_result"
    }
   ],
   "source": [
    "df_krx[['Symbol', 'Name']].head()"
   ]
  },
  {
   "cell_type": "markdown",
   "metadata": {},
   "source": [
    "<br>\n",
    "\n",
    "### 4.2.4 '빅히트' 종목코드 찾기"
   ]
  },
  {
   "cell_type": "code",
   "execution_count": 31,
   "metadata": {},
   "outputs": [
    {
     "data": {
      "text/plain": [
       "'352820'"
      ]
     },
     "execution_count": 31,
     "metadata": {},
     "output_type": "execute_result"
    }
   ],
   "source": [
    "item_name = '빅히트'\n",
    "df_krx.loc[df_krx['Name'] == item_name, 'Symbol'].tolist()[0]"
   ]
  },
  {
   "cell_type": "markdown",
   "metadata": {},
   "source": [
    "<br>\n",
    "\n",
    "### 4.2.5 종목명 입력 시 종목코드를 반환하는 함수 구현"
   ]
  },
  {
   "cell_type": "code",
   "execution_count": 39,
   "metadata": {},
   "outputs": [],
   "source": [
    "def item_code_by_item_name(item_name):\n",
    "    # docstring 정의 (?로 함수 설정 볼 때 표출되는 내용)\n",
    "    \"\"\"\n",
    "    종목명을 받아 종목코드를 찾아 반환하는 함수\n",
    "    \"\"\"\n",
    "    item_code_list = df_krx.loc[df_krx['Name'] == item_name, 'Symbol'].tolist()\n",
    "    if len(item_code_list) > 0:\n",
    "        return item_code_list[0]\n",
    "    else:\n",
    "        return False"
   ]
  },
  {
   "cell_type": "code",
   "execution_count": 42,
   "metadata": {},
   "outputs": [
    {
     "data": {
      "text/plain": [
       "'352820'"
      ]
     },
     "execution_count": 42,
     "metadata": {},
     "output_type": "execute_result"
    }
   ],
   "source": [
    "item_code_by_item_name('빅히트')"
   ]
  },
  {
   "cell_type": "code",
   "execution_count": 44,
   "metadata": {},
   "outputs": [
    {
     "data": {
      "text/plain": [
       "False"
      ]
     },
     "execution_count": 44,
     "metadata": {},
     "output_type": "execute_result"
    }
   ],
   "source": [
    "item_code_by_item_name('네이버')"
   ]
  },
  {
   "cell_type": "code",
   "execution_count": 45,
   "metadata": {},
   "outputs": [
    {
     "data": {
      "text/plain": [
       "'035420'"
      ]
     },
     "execution_count": 45,
     "metadata": {},
     "output_type": "execute_result"
    }
   ],
   "source": [
    "item_code_by_item_name('NAVER')"
   ]
  },
  {
   "cell_type": "code",
   "execution_count": 46,
   "metadata": {},
   "outputs": [
    {
     "data": {
      "text/plain": [
       "'005930'"
      ]
     },
     "execution_count": 46,
     "metadata": {},
     "output_type": "execute_result"
    }
   ],
   "source": [
    "item_code_by_item_name('삼성전자')"
   ]
  },
  {
   "cell_type": "code",
   "execution_count": 47,
   "metadata": {},
   "outputs": [
    {
     "data": {
      "text/plain": [
       "'068270'"
      ]
     },
     "execution_count": 47,
     "metadata": {},
     "output_type": "execute_result"
    }
   ],
   "source": [
    "item_code_by_item_name('셀트리온')"
   ]
  },
  {
   "cell_type": "markdown",
   "metadata": {},
   "source": [
    "<br>\n",
    "\n",
    "### 4.2.6 구현한 함수를 이용해 일별 시세 가져오기"
   ]
  },
  {
   "cell_type": "code",
   "execution_count": 48,
   "metadata": {},
   "outputs": [
    {
     "data": {
      "text/html": [
       "<div>\n",
       "<style scoped>\n",
       "    .dataframe tbody tr th:only-of-type {\n",
       "        vertical-align: middle;\n",
       "    }\n",
       "\n",
       "    .dataframe tbody tr th {\n",
       "        vertical-align: top;\n",
       "    }\n",
       "\n",
       "    .dataframe thead th {\n",
       "        text-align: right;\n",
       "    }\n",
       "</style>\n",
       "<table border=\"1\" class=\"dataframe\">\n",
       "  <thead>\n",
       "    <tr style=\"text-align: right;\">\n",
       "      <th></th>\n",
       "      <th>Open</th>\n",
       "      <th>High</th>\n",
       "      <th>Low</th>\n",
       "      <th>Close</th>\n",
       "      <th>Volume</th>\n",
       "      <th>Change</th>\n",
       "    </tr>\n",
       "    <tr>\n",
       "      <th>Date</th>\n",
       "      <th></th>\n",
       "      <th></th>\n",
       "      <th></th>\n",
       "      <th></th>\n",
       "      <th></th>\n",
       "      <th></th>\n",
       "    </tr>\n",
       "  </thead>\n",
       "  <tbody>\n",
       "    <tr>\n",
       "      <th>1997-02-11</th>\n",
       "      <td>960</td>\n",
       "      <td>972</td>\n",
       "      <td>942</td>\n",
       "      <td>973</td>\n",
       "      <td>130180</td>\n",
       "      <td>NaN</td>\n",
       "    </tr>\n",
       "    <tr>\n",
       "      <th>1997-02-12</th>\n",
       "      <td>967</td>\n",
       "      <td>1022</td>\n",
       "      <td>964</td>\n",
       "      <td>1001</td>\n",
       "      <td>241110</td>\n",
       "      <td>0.028777</td>\n",
       "    </tr>\n",
       "    <tr>\n",
       "      <th>1997-02-13</th>\n",
       "      <td>1004</td>\n",
       "      <td>1081</td>\n",
       "      <td>1004</td>\n",
       "      <td>1049</td>\n",
       "      <td>323720</td>\n",
       "      <td>0.047952</td>\n",
       "    </tr>\n",
       "    <tr>\n",
       "      <th>1997-02-14</th>\n",
       "      <td>1058</td>\n",
       "      <td>1084</td>\n",
       "      <td>1049</td>\n",
       "      <td>1058</td>\n",
       "      <td>187570</td>\n",
       "      <td>0.008580</td>\n",
       "    </tr>\n",
       "    <tr>\n",
       "      <th>1997-02-15</th>\n",
       "      <td>1067</td>\n",
       "      <td>1076</td>\n",
       "      <td>1036</td>\n",
       "      <td>1041</td>\n",
       "      <td>77700</td>\n",
       "      <td>-0.016068</td>\n",
       "    </tr>\n",
       "    <tr>\n",
       "      <th>...</th>\n",
       "      <td>...</td>\n",
       "      <td>...</td>\n",
       "      <td>...</td>\n",
       "      <td>...</td>\n",
       "      <td>...</td>\n",
       "      <td>...</td>\n",
       "    </tr>\n",
       "    <tr>\n",
       "      <th>2021-01-15</th>\n",
       "      <td>89800</td>\n",
       "      <td>91800</td>\n",
       "      <td>88000</td>\n",
       "      <td>88000</td>\n",
       "      <td>33431809</td>\n",
       "      <td>-0.018952</td>\n",
       "    </tr>\n",
       "    <tr>\n",
       "      <th>2021-01-18</th>\n",
       "      <td>86600</td>\n",
       "      <td>87300</td>\n",
       "      <td>84100</td>\n",
       "      <td>85000</td>\n",
       "      <td>43227951</td>\n",
       "      <td>-0.034091</td>\n",
       "    </tr>\n",
       "    <tr>\n",
       "      <th>2021-01-19</th>\n",
       "      <td>84500</td>\n",
       "      <td>88000</td>\n",
       "      <td>83600</td>\n",
       "      <td>87000</td>\n",
       "      <td>39895044</td>\n",
       "      <td>0.023529</td>\n",
       "    </tr>\n",
       "    <tr>\n",
       "      <th>2021-01-20</th>\n",
       "      <td>89000</td>\n",
       "      <td>89000</td>\n",
       "      <td>86500</td>\n",
       "      <td>87200</td>\n",
       "      <td>25211127</td>\n",
       "      <td>0.002299</td>\n",
       "    </tr>\n",
       "    <tr>\n",
       "      <th>2021-01-21</th>\n",
       "      <td>87500</td>\n",
       "      <td>88600</td>\n",
       "      <td>86500</td>\n",
       "      <td>88100</td>\n",
       "      <td>23661537</td>\n",
       "      <td>0.010321</td>\n",
       "    </tr>\n",
       "  </tbody>\n",
       "</table>\n",
       "<p>6000 rows × 6 columns</p>\n",
       "</div>"
      ],
      "text/plain": [
       "             Open   High    Low  Close    Volume    Change\n",
       "Date                                                      \n",
       "1997-02-11    960    972    942    973    130180       NaN\n",
       "1997-02-12    967   1022    964   1001    241110  0.028777\n",
       "1997-02-13   1004   1081   1004   1049    323720  0.047952\n",
       "1997-02-14   1058   1084   1049   1058    187570  0.008580\n",
       "1997-02-15   1067   1076   1036   1041     77700 -0.016068\n",
       "...           ...    ...    ...    ...       ...       ...\n",
       "2021-01-15  89800  91800  88000  88000  33431809 -0.018952\n",
       "2021-01-18  86600  87300  84100  85000  43227951 -0.034091\n",
       "2021-01-19  84500  88000  83600  87000  39895044  0.023529\n",
       "2021-01-20  89000  89000  86500  87200  25211127  0.002299\n",
       "2021-01-21  87500  88600  86500  88100  23661537  0.010321\n",
       "\n",
       "[6000 rows x 6 columns]"
      ]
     },
     "execution_count": 48,
     "metadata": {},
     "output_type": "execute_result"
    }
   ],
   "source": [
    "fdr.DataReader(item_code_by_item_name('삼성전자'))"
   ]
  },
  {
   "cell_type": "markdown",
   "metadata": {},
   "source": [
    "<br>\n",
    "\n",
    "### 4.2.7 종목명으로 일별시세를 받아오는 함수 구현"
   ]
  },
  {
   "cell_type": "code",
   "execution_count": 56,
   "metadata": {},
   "outputs": [],
   "source": [
    "def find_item_list(item_name, year=2020):\n",
    "    \"\"\"\n",
    "    종목명을 넘겨주면 일별시세를 반환하는 함수\n",
    "    내부에서 종목명으로 종목코드를 반환하는 함수(item_code_by_item_name)로 종목의 시세를 수집한다.\n",
    "    \"\"\"\n",
    "    item_code = item_code_by_item_name(item_name)\n",
    "    if item_code:\n",
    "        df_day = fdr.DataReader(item_code, start=str(year))\n",
    "        return df_day\n",
    "    else:\n",
    "        return False"
   ]
  },
  {
   "cell_type": "code",
   "execution_count": 57,
   "metadata": {},
   "outputs": [
    {
     "data": {
      "text/html": [
       "<div>\n",
       "<style scoped>\n",
       "    .dataframe tbody tr th:only-of-type {\n",
       "        vertical-align: middle;\n",
       "    }\n",
       "\n",
       "    .dataframe tbody tr th {\n",
       "        vertical-align: top;\n",
       "    }\n",
       "\n",
       "    .dataframe thead th {\n",
       "        text-align: right;\n",
       "    }\n",
       "</style>\n",
       "<table border=\"1\" class=\"dataframe\">\n",
       "  <thead>\n",
       "    <tr style=\"text-align: right;\">\n",
       "      <th></th>\n",
       "      <th>Open</th>\n",
       "      <th>High</th>\n",
       "      <th>Low</th>\n",
       "      <th>Close</th>\n",
       "      <th>Volume</th>\n",
       "      <th>Change</th>\n",
       "    </tr>\n",
       "    <tr>\n",
       "      <th>Date</th>\n",
       "      <th></th>\n",
       "      <th></th>\n",
       "      <th></th>\n",
       "      <th></th>\n",
       "      <th></th>\n",
       "      <th></th>\n",
       "    </tr>\n",
       "  </thead>\n",
       "  <tbody>\n",
       "    <tr>\n",
       "      <th>2020-01-02</th>\n",
       "      <td>55500</td>\n",
       "      <td>56000</td>\n",
       "      <td>55000</td>\n",
       "      <td>55200</td>\n",
       "      <td>12993228</td>\n",
       "      <td>-0.010753</td>\n",
       "    </tr>\n",
       "    <tr>\n",
       "      <th>2020-01-03</th>\n",
       "      <td>56000</td>\n",
       "      <td>56600</td>\n",
       "      <td>54900</td>\n",
       "      <td>55500</td>\n",
       "      <td>15422255</td>\n",
       "      <td>0.005435</td>\n",
       "    </tr>\n",
       "    <tr>\n",
       "      <th>2020-01-06</th>\n",
       "      <td>54900</td>\n",
       "      <td>55600</td>\n",
       "      <td>54600</td>\n",
       "      <td>55500</td>\n",
       "      <td>10278951</td>\n",
       "      <td>0.000000</td>\n",
       "    </tr>\n",
       "    <tr>\n",
       "      <th>2020-01-07</th>\n",
       "      <td>55700</td>\n",
       "      <td>56400</td>\n",
       "      <td>55600</td>\n",
       "      <td>55800</td>\n",
       "      <td>10009778</td>\n",
       "      <td>0.005405</td>\n",
       "    </tr>\n",
       "    <tr>\n",
       "      <th>2020-01-08</th>\n",
       "      <td>56200</td>\n",
       "      <td>57400</td>\n",
       "      <td>55900</td>\n",
       "      <td>56800</td>\n",
       "      <td>23501171</td>\n",
       "      <td>0.017921</td>\n",
       "    </tr>\n",
       "    <tr>\n",
       "      <th>...</th>\n",
       "      <td>...</td>\n",
       "      <td>...</td>\n",
       "      <td>...</td>\n",
       "      <td>...</td>\n",
       "      <td>...</td>\n",
       "      <td>...</td>\n",
       "    </tr>\n",
       "    <tr>\n",
       "      <th>2021-01-18</th>\n",
       "      <td>86600</td>\n",
       "      <td>87300</td>\n",
       "      <td>84100</td>\n",
       "      <td>85000</td>\n",
       "      <td>43227951</td>\n",
       "      <td>-0.034091</td>\n",
       "    </tr>\n",
       "    <tr>\n",
       "      <th>2021-01-19</th>\n",
       "      <td>84500</td>\n",
       "      <td>88000</td>\n",
       "      <td>83600</td>\n",
       "      <td>87000</td>\n",
       "      <td>39895044</td>\n",
       "      <td>0.023529</td>\n",
       "    </tr>\n",
       "    <tr>\n",
       "      <th>2021-01-20</th>\n",
       "      <td>89000</td>\n",
       "      <td>89000</td>\n",
       "      <td>86500</td>\n",
       "      <td>87200</td>\n",
       "      <td>25211127</td>\n",
       "      <td>0.002299</td>\n",
       "    </tr>\n",
       "    <tr>\n",
       "      <th>2021-01-21</th>\n",
       "      <td>87500</td>\n",
       "      <td>88600</td>\n",
       "      <td>86500</td>\n",
       "      <td>88100</td>\n",
       "      <td>25318011</td>\n",
       "      <td>0.010321</td>\n",
       "    </tr>\n",
       "    <tr>\n",
       "      <th>2021-01-22</th>\n",
       "      <td>89000</td>\n",
       "      <td>89700</td>\n",
       "      <td>86800</td>\n",
       "      <td>86800</td>\n",
       "      <td>30430330</td>\n",
       "      <td>-0.014756</td>\n",
       "    </tr>\n",
       "  </tbody>\n",
       "</table>\n",
       "<p>263 rows × 6 columns</p>\n",
       "</div>"
      ],
      "text/plain": [
       "             Open   High    Low  Close    Volume    Change\n",
       "Date                                                      \n",
       "2020-01-02  55500  56000  55000  55200  12993228 -0.010753\n",
       "2020-01-03  56000  56600  54900  55500  15422255  0.005435\n",
       "2020-01-06  54900  55600  54600  55500  10278951  0.000000\n",
       "2020-01-07  55700  56400  55600  55800  10009778  0.005405\n",
       "2020-01-08  56200  57400  55900  56800  23501171  0.017921\n",
       "...           ...    ...    ...    ...       ...       ...\n",
       "2021-01-18  86600  87300  84100  85000  43227951 -0.034091\n",
       "2021-01-19  84500  88000  83600  87000  39895044  0.023529\n",
       "2021-01-20  89000  89000  86500  87200  25211127  0.002299\n",
       "2021-01-21  87500  88600  86500  88100  25318011  0.010321\n",
       "2021-01-22  89000  89700  86800  86800  30430330 -0.014756\n",
       "\n",
       "[263 rows x 6 columns]"
      ]
     },
     "execution_count": 57,
     "metadata": {},
     "output_type": "execute_result"
    }
   ],
   "source": [
    "find_item_list('삼성전자')"
   ]
  },
  {
   "cell_type": "code",
   "execution_count": 58,
   "metadata": {},
   "outputs": [
    {
     "data": {
      "text/plain": [
       "False"
      ]
     },
     "execution_count": 58,
     "metadata": {},
     "output_type": "execute_result"
    }
   ],
   "source": [
    "find_item_list('삼성')"
   ]
  },
  {
   "cell_type": "code",
   "execution_count": 59,
   "metadata": {},
   "outputs": [
    {
     "data": {
      "text/plain": [
       "False"
      ]
     },
     "execution_count": 59,
     "metadata": {},
     "output_type": "execute_result"
    }
   ],
   "source": [
    "find_item_list('네이버')"
   ]
  },
  {
   "cell_type": "code",
   "execution_count": 60,
   "metadata": {},
   "outputs": [
    {
     "data": {
      "text/html": [
       "<div>\n",
       "<style scoped>\n",
       "    .dataframe tbody tr th:only-of-type {\n",
       "        vertical-align: middle;\n",
       "    }\n",
       "\n",
       "    .dataframe tbody tr th {\n",
       "        vertical-align: top;\n",
       "    }\n",
       "\n",
       "    .dataframe thead th {\n",
       "        text-align: right;\n",
       "    }\n",
       "</style>\n",
       "<table border=\"1\" class=\"dataframe\">\n",
       "  <thead>\n",
       "    <tr style=\"text-align: right;\">\n",
       "      <th></th>\n",
       "      <th>Open</th>\n",
       "      <th>High</th>\n",
       "      <th>Low</th>\n",
       "      <th>Close</th>\n",
       "      <th>Volume</th>\n",
       "      <th>Change</th>\n",
       "    </tr>\n",
       "    <tr>\n",
       "      <th>Date</th>\n",
       "      <th></th>\n",
       "      <th></th>\n",
       "      <th></th>\n",
       "      <th></th>\n",
       "      <th></th>\n",
       "      <th></th>\n",
       "    </tr>\n",
       "  </thead>\n",
       "  <tbody>\n",
       "    <tr>\n",
       "      <th>2015-01-02</th>\n",
       "      <td>142802</td>\n",
       "      <td>146808</td>\n",
       "      <td>142602</td>\n",
       "      <td>146408</td>\n",
       "      <td>64225</td>\n",
       "      <td>0.026690</td>\n",
       "    </tr>\n",
       "    <tr>\n",
       "      <th>2015-01-05</th>\n",
       "      <td>145406</td>\n",
       "      <td>150213</td>\n",
       "      <td>144404</td>\n",
       "      <td>150013</td>\n",
       "      <td>112572</td>\n",
       "      <td>0.024623</td>\n",
       "    </tr>\n",
       "    <tr>\n",
       "      <th>2015-01-06</th>\n",
       "      <td>148410</td>\n",
       "      <td>151014</td>\n",
       "      <td>147208</td>\n",
       "      <td>148811</td>\n",
       "      <td>92315</td>\n",
       "      <td>-0.008013</td>\n",
       "    </tr>\n",
       "    <tr>\n",
       "      <th>2015-01-07</th>\n",
       "      <td>150012</td>\n",
       "      <td>150012</td>\n",
       "      <td>146207</td>\n",
       "      <td>146608</td>\n",
       "      <td>51987</td>\n",
       "      <td>-0.014804</td>\n",
       "    </tr>\n",
       "    <tr>\n",
       "      <th>2015-01-08</th>\n",
       "      <td>146007</td>\n",
       "      <td>149211</td>\n",
       "      <td>146007</td>\n",
       "      <td>149011</td>\n",
       "      <td>56392</td>\n",
       "      <td>0.016391</td>\n",
       "    </tr>\n",
       "    <tr>\n",
       "      <th>...</th>\n",
       "      <td>...</td>\n",
       "      <td>...</td>\n",
       "      <td>...</td>\n",
       "      <td>...</td>\n",
       "      <td>...</td>\n",
       "      <td>...</td>\n",
       "    </tr>\n",
       "    <tr>\n",
       "      <th>2021-01-18</th>\n",
       "      <td>304500</td>\n",
       "      <td>308500</td>\n",
       "      <td>300000</td>\n",
       "      <td>300500</td>\n",
       "      <td>864969</td>\n",
       "      <td>-0.017974</td>\n",
       "    </tr>\n",
       "    <tr>\n",
       "      <th>2021-01-19</th>\n",
       "      <td>303500</td>\n",
       "      <td>310500</td>\n",
       "      <td>299500</td>\n",
       "      <td>308000</td>\n",
       "      <td>880238</td>\n",
       "      <td>0.024958</td>\n",
       "    </tr>\n",
       "    <tr>\n",
       "      <th>2021-01-20</th>\n",
       "      <td>313500</td>\n",
       "      <td>313500</td>\n",
       "      <td>302000</td>\n",
       "      <td>308000</td>\n",
       "      <td>885472</td>\n",
       "      <td>0.000000</td>\n",
       "    </tr>\n",
       "    <tr>\n",
       "      <th>2021-01-21</th>\n",
       "      <td>316500</td>\n",
       "      <td>326000</td>\n",
       "      <td>316000</td>\n",
       "      <td>322500</td>\n",
       "      <td>1941446</td>\n",
       "      <td>0.047078</td>\n",
       "    </tr>\n",
       "    <tr>\n",
       "      <th>2021-01-22</th>\n",
       "      <td>332000</td>\n",
       "      <td>350000</td>\n",
       "      <td>326000</td>\n",
       "      <td>343500</td>\n",
       "      <td>3258379</td>\n",
       "      <td>0.065116</td>\n",
       "    </tr>\n",
       "  </tbody>\n",
       "</table>\n",
       "<p>1490 rows × 6 columns</p>\n",
       "</div>"
      ],
      "text/plain": [
       "              Open    High     Low   Close   Volume    Change\n",
       "Date                                                         \n",
       "2015-01-02  142802  146808  142602  146408    64225  0.026690\n",
       "2015-01-05  145406  150213  144404  150013   112572  0.024623\n",
       "2015-01-06  148410  151014  147208  148811    92315 -0.008013\n",
       "2015-01-07  150012  150012  146207  146608    51987 -0.014804\n",
       "2015-01-08  146007  149211  146007  149011    56392  0.016391\n",
       "...            ...     ...     ...     ...      ...       ...\n",
       "2021-01-18  304500  308500  300000  300500   864969 -0.017974\n",
       "2021-01-19  303500  310500  299500  308000   880238  0.024958\n",
       "2021-01-20  313500  313500  302000  308000   885472  0.000000\n",
       "2021-01-21  316500  326000  316000  322500  1941446  0.047078\n",
       "2021-01-22  332000  350000  326000  343500  3258379  0.065116\n",
       "\n",
       "[1490 rows x 6 columns]"
      ]
     },
     "execution_count": 60,
     "metadata": {},
     "output_type": "execute_result"
    }
   ],
   "source": [
    "find_item_list('NAVER', 2015)"
   ]
  },
  {
   "cell_type": "code",
   "execution_count": 61,
   "metadata": {},
   "outputs": [
    {
     "data": {
      "text/html": [
       "<div>\n",
       "<style scoped>\n",
       "    .dataframe tbody tr th:only-of-type {\n",
       "        vertical-align: middle;\n",
       "    }\n",
       "\n",
       "    .dataframe tbody tr th {\n",
       "        vertical-align: top;\n",
       "    }\n",
       "\n",
       "    .dataframe thead th {\n",
       "        text-align: right;\n",
       "    }\n",
       "</style>\n",
       "<table border=\"1\" class=\"dataframe\">\n",
       "  <thead>\n",
       "    <tr style=\"text-align: right;\">\n",
       "      <th></th>\n",
       "      <th>Open</th>\n",
       "      <th>High</th>\n",
       "      <th>Low</th>\n",
       "      <th>Close</th>\n",
       "      <th>Volume</th>\n",
       "      <th>Change</th>\n",
       "    </tr>\n",
       "    <tr>\n",
       "      <th>Date</th>\n",
       "      <th></th>\n",
       "      <th></th>\n",
       "      <th></th>\n",
       "      <th></th>\n",
       "      <th></th>\n",
       "      <th></th>\n",
       "    </tr>\n",
       "  </thead>\n",
       "  <tbody>\n",
       "    <tr>\n",
       "      <th>2020-10-15</th>\n",
       "      <td>270000</td>\n",
       "      <td>351000</td>\n",
       "      <td>253500</td>\n",
       "      <td>258000</td>\n",
       "      <td>6557212</td>\n",
       "      <td>NaN</td>\n",
       "    </tr>\n",
       "    <tr>\n",
       "      <th>2020-10-16</th>\n",
       "      <td>253000</td>\n",
       "      <td>253000</td>\n",
       "      <td>199000</td>\n",
       "      <td>200500</td>\n",
       "      <td>4504395</td>\n",
       "      <td>-0.222868</td>\n",
       "    </tr>\n",
       "    <tr>\n",
       "      <th>2020-10-19</th>\n",
       "      <td>198500</td>\n",
       "      <td>202500</td>\n",
       "      <td>187000</td>\n",
       "      <td>189000</td>\n",
       "      <td>1977996</td>\n",
       "      <td>-0.057357</td>\n",
       "    </tr>\n",
       "    <tr>\n",
       "      <th>2020-10-20</th>\n",
       "      <td>190000</td>\n",
       "      <td>193500</td>\n",
       "      <td>176000</td>\n",
       "      <td>182500</td>\n",
       "      <td>1811616</td>\n",
       "      <td>-0.034392</td>\n",
       "    </tr>\n",
       "    <tr>\n",
       "      <th>2020-10-21</th>\n",
       "      <td>180500</td>\n",
       "      <td>185500</td>\n",
       "      <td>177000</td>\n",
       "      <td>179000</td>\n",
       "      <td>1658643</td>\n",
       "      <td>-0.019178</td>\n",
       "    </tr>\n",
       "    <tr>\n",
       "      <th>...</th>\n",
       "      <td>...</td>\n",
       "      <td>...</td>\n",
       "      <td>...</td>\n",
       "      <td>...</td>\n",
       "      <td>...</td>\n",
       "      <td>...</td>\n",
       "    </tr>\n",
       "    <tr>\n",
       "      <th>2021-01-18</th>\n",
       "      <td>156000</td>\n",
       "      <td>168500</td>\n",
       "      <td>154500</td>\n",
       "      <td>165500</td>\n",
       "      <td>630687</td>\n",
       "      <td>0.054140</td>\n",
       "    </tr>\n",
       "    <tr>\n",
       "      <th>2021-01-19</th>\n",
       "      <td>168000</td>\n",
       "      <td>174500</td>\n",
       "      <td>167000</td>\n",
       "      <td>173500</td>\n",
       "      <td>459733</td>\n",
       "      <td>0.048338</td>\n",
       "    </tr>\n",
       "    <tr>\n",
       "      <th>2021-01-20</th>\n",
       "      <td>174000</td>\n",
       "      <td>177000</td>\n",
       "      <td>169000</td>\n",
       "      <td>176000</td>\n",
       "      <td>423998</td>\n",
       "      <td>0.014409</td>\n",
       "    </tr>\n",
       "    <tr>\n",
       "      <th>2021-01-21</th>\n",
       "      <td>178000</td>\n",
       "      <td>178000</td>\n",
       "      <td>173000</td>\n",
       "      <td>173000</td>\n",
       "      <td>242491</td>\n",
       "      <td>-0.017045</td>\n",
       "    </tr>\n",
       "    <tr>\n",
       "      <th>2021-01-22</th>\n",
       "      <td>173000</td>\n",
       "      <td>198000</td>\n",
       "      <td>171500</td>\n",
       "      <td>192500</td>\n",
       "      <td>2202384</td>\n",
       "      <td>0.112717</td>\n",
       "    </tr>\n",
       "  </tbody>\n",
       "</table>\n",
       "<p>69 rows × 6 columns</p>\n",
       "</div>"
      ],
      "text/plain": [
       "              Open    High     Low   Close   Volume    Change\n",
       "Date                                                         \n",
       "2020-10-15  270000  351000  253500  258000  6557212       NaN\n",
       "2020-10-16  253000  253000  199000  200500  4504395 -0.222868\n",
       "2020-10-19  198500  202500  187000  189000  1977996 -0.057357\n",
       "2020-10-20  190000  193500  176000  182500  1811616 -0.034392\n",
       "2020-10-21  180500  185500  177000  179000  1658643 -0.019178\n",
       "...            ...     ...     ...     ...      ...       ...\n",
       "2021-01-18  156000  168500  154500  165500   630687  0.054140\n",
       "2021-01-19  168000  174500  167000  173500   459733  0.048338\n",
       "2021-01-20  174000  177000  169000  176000   423998  0.014409\n",
       "2021-01-21  178000  178000  173000  173000   242491 -0.017045\n",
       "2021-01-22  173000  198000  171500  192500  2202384  0.112717\n",
       "\n",
       "[69 rows x 6 columns]"
      ]
     },
     "execution_count": 61,
     "metadata": {},
     "output_type": "execute_result"
    }
   ],
   "source": [
    "find_item_list('빅히트')"
   ]
  },
  {
   "cell_type": "markdown",
   "metadata": {},
   "source": [
    "<br>\n",
    "\n",
    "## 4.3 개별 종목 시세 시각화"
   ]
  },
  {
   "cell_type": "markdown",
   "metadata": {},
   "source": [
    "### 4.3.1 pandas의 `plot`으로 시각화 하기"
   ]
  },
  {
   "cell_type": "code",
   "execution_count": 62,
   "metadata": {},
   "outputs": [
    {
     "data": {
      "text/html": [
       "<div>\n",
       "<style scoped>\n",
       "    .dataframe tbody tr th:only-of-type {\n",
       "        vertical-align: middle;\n",
       "    }\n",
       "\n",
       "    .dataframe tbody tr th {\n",
       "        vertical-align: top;\n",
       "    }\n",
       "\n",
       "    .dataframe thead th {\n",
       "        text-align: right;\n",
       "    }\n",
       "</style>\n",
       "<table border=\"1\" class=\"dataframe\">\n",
       "  <thead>\n",
       "    <tr style=\"text-align: right;\">\n",
       "      <th></th>\n",
       "      <th>Open</th>\n",
       "      <th>High</th>\n",
       "      <th>Low</th>\n",
       "      <th>Close</th>\n",
       "      <th>Volume</th>\n",
       "      <th>Change</th>\n",
       "    </tr>\n",
       "    <tr>\n",
       "      <th>Date</th>\n",
       "      <th></th>\n",
       "      <th></th>\n",
       "      <th></th>\n",
       "      <th></th>\n",
       "      <th></th>\n",
       "      <th></th>\n",
       "    </tr>\n",
       "  </thead>\n",
       "  <tbody>\n",
       "    <tr>\n",
       "      <th>2020-10-15</th>\n",
       "      <td>270000</td>\n",
       "      <td>351000</td>\n",
       "      <td>253500</td>\n",
       "      <td>258000</td>\n",
       "      <td>6557212</td>\n",
       "      <td>NaN</td>\n",
       "    </tr>\n",
       "    <tr>\n",
       "      <th>2020-10-16</th>\n",
       "      <td>253000</td>\n",
       "      <td>253000</td>\n",
       "      <td>199000</td>\n",
       "      <td>200500</td>\n",
       "      <td>4504395</td>\n",
       "      <td>-0.222868</td>\n",
       "    </tr>\n",
       "    <tr>\n",
       "      <th>2020-10-19</th>\n",
       "      <td>198500</td>\n",
       "      <td>202500</td>\n",
       "      <td>187000</td>\n",
       "      <td>189000</td>\n",
       "      <td>1977996</td>\n",
       "      <td>-0.057357</td>\n",
       "    </tr>\n",
       "    <tr>\n",
       "      <th>2020-10-20</th>\n",
       "      <td>190000</td>\n",
       "      <td>193500</td>\n",
       "      <td>176000</td>\n",
       "      <td>182500</td>\n",
       "      <td>1811616</td>\n",
       "      <td>-0.034392</td>\n",
       "    </tr>\n",
       "    <tr>\n",
       "      <th>2020-10-21</th>\n",
       "      <td>180500</td>\n",
       "      <td>185500</td>\n",
       "      <td>177000</td>\n",
       "      <td>179000</td>\n",
       "      <td>1658643</td>\n",
       "      <td>-0.019178</td>\n",
       "    </tr>\n",
       "    <tr>\n",
       "      <th>...</th>\n",
       "      <td>...</td>\n",
       "      <td>...</td>\n",
       "      <td>...</td>\n",
       "      <td>...</td>\n",
       "      <td>...</td>\n",
       "      <td>...</td>\n",
       "    </tr>\n",
       "    <tr>\n",
       "      <th>2021-01-18</th>\n",
       "      <td>156000</td>\n",
       "      <td>168500</td>\n",
       "      <td>154500</td>\n",
       "      <td>165500</td>\n",
       "      <td>630687</td>\n",
       "      <td>0.054140</td>\n",
       "    </tr>\n",
       "    <tr>\n",
       "      <th>2021-01-19</th>\n",
       "      <td>168000</td>\n",
       "      <td>174500</td>\n",
       "      <td>167000</td>\n",
       "      <td>173500</td>\n",
       "      <td>459733</td>\n",
       "      <td>0.048338</td>\n",
       "    </tr>\n",
       "    <tr>\n",
       "      <th>2021-01-20</th>\n",
       "      <td>174000</td>\n",
       "      <td>177000</td>\n",
       "      <td>169000</td>\n",
       "      <td>176000</td>\n",
       "      <td>423998</td>\n",
       "      <td>0.014409</td>\n",
       "    </tr>\n",
       "    <tr>\n",
       "      <th>2021-01-21</th>\n",
       "      <td>178000</td>\n",
       "      <td>178000</td>\n",
       "      <td>173000</td>\n",
       "      <td>173000</td>\n",
       "      <td>242491</td>\n",
       "      <td>-0.017045</td>\n",
       "    </tr>\n",
       "    <tr>\n",
       "      <th>2021-01-22</th>\n",
       "      <td>173000</td>\n",
       "      <td>198000</td>\n",
       "      <td>171500</td>\n",
       "      <td>192500</td>\n",
       "      <td>2202384</td>\n",
       "      <td>0.112717</td>\n",
       "    </tr>\n",
       "  </tbody>\n",
       "</table>\n",
       "<p>69 rows × 6 columns</p>\n",
       "</div>"
      ],
      "text/plain": [
       "              Open    High     Low   Close   Volume    Change\n",
       "Date                                                         \n",
       "2020-10-15  270000  351000  253500  258000  6557212       NaN\n",
       "2020-10-16  253000  253000  199000  200500  4504395 -0.222868\n",
       "2020-10-19  198500  202500  187000  189000  1977996 -0.057357\n",
       "2020-10-20  190000  193500  176000  182500  1811616 -0.034392\n",
       "2020-10-21  180500  185500  177000  179000  1658643 -0.019178\n",
       "...            ...     ...     ...     ...      ...       ...\n",
       "2021-01-18  156000  168500  154500  165500   630687  0.054140\n",
       "2021-01-19  168000  174500  167000  173500   459733  0.048338\n",
       "2021-01-20  174000  177000  169000  176000   423998  0.014409\n",
       "2021-01-21  178000  178000  173000  173000   242491 -0.017045\n",
       "2021-01-22  173000  198000  171500  192500  2202384  0.112717\n",
       "\n",
       "[69 rows x 6 columns]"
      ]
     },
     "execution_count": 62,
     "metadata": {},
     "output_type": "execute_result"
    }
   ],
   "source": [
    "stock_daily = find_item_list('빅히트')\n",
    "stock_daily"
   ]
  },
  {
   "cell_type": "code",
   "execution_count": 64,
   "metadata": {},
   "outputs": [
    {
     "data": {
      "text/plain": [
       "<AxesSubplot:xlabel='Date'>"
      ]
     },
     "execution_count": 64,
     "metadata": {},
     "output_type": "execute_result"
    },
    {
     "data": {
      "image/png": "[encoded data removed]",
      "text/plain": [
       "<Figure size 432x288 with 1 Axes>"
      ]
     },
     "metadata": {
      "needs_background": "light"
     },
     "output_type": "display_data"
    }
   ],
   "source": [
    "# 종가 시각화\n",
    "stock_daily['Close'].plot()"
   ]
  },
  {
   "cell_type": "code",
   "execution_count": 65,
   "metadata": {},
   "outputs": [
    {
     "data": {
      "text/plain": [
       "<AxesSubplot:xlabel='Date'>"
      ]
     },
     "execution_count": 65,
     "metadata": {},
     "output_type": "execute_result"
    },
    {
     "data": {
      "image/png": "[encoded data removed]",
      "text/plain": [
       "<Figure size 432x288 with 1 Axes>"
      ]
     },
     "metadata": {
      "needs_background": "light"
     },
     "output_type": "display_data"
    }
   ],
   "source": [
    "# 전체 데이터 시각화\n",
    "stock_daily.plot()"
   ]
  },
  {
   "cell_type": "code",
   "execution_count": 68,
   "metadata": {},
   "outputs": [
    {
     "data": {
      "image/png": "[encoded data removed]",
      "text/plain": [
       "<Figure size 720x576 with 6 Axes>"
      ]
     },
     "metadata": {
      "needs_background": "light"
     },
     "output_type": "display_data"
    }
   ],
   "source": [
    "# 서브 플롯 시각화\n",
    "g = stock_daily.plot(subplots=True, figsize=(10,8))"
   ]
  },
  {
   "cell_type": "markdown",
   "metadata": {},
   "source": [
    "<br>\n",
    "\n",
    "### 4.3.2 히스토그램 (각 데이터별 빈도수 시각화)"
   ]
  },
  {
   "cell_type": "code",
   "execution_count": 79,
   "metadata": {},
   "outputs": [
    {
     "data": {
      "image/png": "[encoded data removed]",
      "text/plain": [
       "<Figure size 720x576 with 6 Axes>"
      ]
     },
     "metadata": {
      "needs_background": "light"
     },
     "output_type": "display_data"
    }
   ],
   "source": [
    "h = stock_daily.hist(figsize=(10,8), bins=20)"
   ]
  },
  {
   "cell_type": "markdown",
   "metadata": {},
   "source": [
    "<br>\n",
    "\n",
    "### 4.3.3 2축 그래프 그리기\n",
    "\n",
    "- `secondary_y` 속성 사용"
   ]
  },
  {
   "cell_type": "code",
   "execution_count": 82,
   "metadata": {},
   "outputs": [
    {
     "data": {
      "image/png": "[encoded data removed]",
      "text/plain": [
       "<Figure size 432x288 with 2 Axes>"
      ]
     },
     "metadata": {
      "needs_background": "light"
     },
     "output_type": "display_data"
    }
   ],
   "source": [
    "s = stock_daily[['Close', 'Volume']].plot(secondary_y='Volume')"
   ]
  },
  {
   "cell_type": "markdown",
   "metadata": {},
   "source": [
    "<br>\n",
    "\n",
    "### 4.3.4 E notation\n",
    "\n",
    "- 과학적 기수법, 과학적 표기법 (scientific notation, scientific form, standard index form, standard form)\n",
    "- 너무 크거나 너무 작은 숫자들을 십진법으로 편하게 작성하여 표현하는 방법\n",
    "- 특정한 산술을 단순화시켜 준다."
   ]
  },
  {
   "cell_type": "code",
   "execution_count": 84,
   "metadata": {},
   "outputs": [
    {
     "data": {
      "text/plain": [
       "'1,000,000.0'"
      ]
     },
     "execution_count": 84,
     "metadata": {},
     "output_type": "execute_result"
    }
   ],
   "source": [
    "format(1e6,',') # 백만"
   ]
  },
  {
   "cell_type": "code",
   "execution_count": 86,
   "metadata": {},
   "outputs": [
    {
     "data": {
      "text/plain": [
       "'1,000,000'"
      ]
     },
     "execution_count": 86,
     "metadata": {},
     "output_type": "execute_result"
    }
   ],
   "source": [
    "format(10**6, ',')"
   ]
  },
  {
   "cell_type": "code",
   "execution_count": 88,
   "metadata": {},
   "outputs": [
    {
     "data": {
      "text/html": [
       "<div>\n",
       "<style scoped>\n",
       "    .dataframe tbody tr th:only-of-type {\n",
       "        vertical-align: middle;\n",
       "    }\n",
       "\n",
       "    .dataframe tbody tr th {\n",
       "        vertical-align: top;\n",
       "    }\n",
       "\n",
       "    .dataframe thead th {\n",
       "        text-align: right;\n",
       "    }\n",
       "</style>\n",
       "<table border=\"1\" class=\"dataframe\">\n",
       "  <thead>\n",
       "    <tr style=\"text-align: right;\">\n",
       "      <th></th>\n",
       "      <th>Open</th>\n",
       "      <th>High</th>\n",
       "      <th>Low</th>\n",
       "      <th>Close</th>\n",
       "      <th>Volume</th>\n",
       "      <th>Change</th>\n",
       "    </tr>\n",
       "  </thead>\n",
       "  <tbody>\n",
       "    <tr>\n",
       "      <th>count</th>\n",
       "      <td>69.000000</td>\n",
       "      <td>69.000000</td>\n",
       "      <td>69.000000</td>\n",
       "      <td>69.000000</td>\n",
       "      <td>6.900000e+01</td>\n",
       "      <td>68.000000</td>\n",
       "    </tr>\n",
       "    <tr>\n",
       "      <th>mean</th>\n",
       "      <td>171398.550725</td>\n",
       "      <td>176615.942029</td>\n",
       "      <td>166413.043478</td>\n",
       "      <td>170231.884058</td>\n",
       "      <td>6.860489e+05</td>\n",
       "      <td>-0.003141</td>\n",
       "    </tr>\n",
       "    <tr>\n",
       "      <th>std</th>\n",
       "      <td>20155.020486</td>\n",
       "      <td>26443.494825</td>\n",
       "      <td>16216.131339</td>\n",
       "      <td>16488.092787</td>\n",
       "      <td>1.002552e+06</td>\n",
       "      <td>0.047283</td>\n",
       "    </tr>\n",
       "    <tr>\n",
       "      <th>min</th>\n",
       "      <td>142500.000000</td>\n",
       "      <td>146500.000000</td>\n",
       "      <td>141000.000000</td>\n",
       "      <td>142000.000000</td>\n",
       "      <td>9.701000e+04</td>\n",
       "      <td>-0.222868</td>\n",
       "    </tr>\n",
       "    <tr>\n",
       "      <th>25%</th>\n",
       "      <td>158000.000000</td>\n",
       "      <td>162000.000000</td>\n",
       "      <td>155000.000000</td>\n",
       "      <td>158500.000000</td>\n",
       "      <td>1.777060e+05</td>\n",
       "      <td>-0.022156</td>\n",
       "    </tr>\n",
       "    <tr>\n",
       "      <th>50%</th>\n",
       "      <td>169000.000000</td>\n",
       "      <td>173500.000000</td>\n",
       "      <td>163500.000000</td>\n",
       "      <td>168500.000000</td>\n",
       "      <td>3.436630e+05</td>\n",
       "      <td>-0.002755</td>\n",
       "    </tr>\n",
       "    <tr>\n",
       "      <th>75%</th>\n",
       "      <td>181000.000000</td>\n",
       "      <td>183000.000000</td>\n",
       "      <td>176000.000000</td>\n",
       "      <td>180000.000000</td>\n",
       "      <td>6.896110e+05</td>\n",
       "      <td>0.011816</td>\n",
       "    </tr>\n",
       "    <tr>\n",
       "      <th>max</th>\n",
       "      <td>270000.000000</td>\n",
       "      <td>351000.000000</td>\n",
       "      <td>253500.000000</td>\n",
       "      <td>258000.000000</td>\n",
       "      <td>6.557212e+06</td>\n",
       "      <td>0.112717</td>\n",
       "    </tr>\n",
       "  </tbody>\n",
       "</table>\n",
       "</div>"
      ],
      "text/plain": [
       "                Open           High            Low          Close  \\\n",
       "count      69.000000      69.000000      69.000000      69.000000   \n",
       "mean   171398.550725  176615.942029  166413.043478  170231.884058   \n",
       "std     20155.020486   26443.494825   16216.131339   16488.092787   \n",
       "min    142500.000000  146500.000000  141000.000000  142000.000000   \n",
       "25%    158000.000000  162000.000000  155000.000000  158500.000000   \n",
       "50%    169000.000000  173500.000000  163500.000000  168500.000000   \n",
       "75%    181000.000000  183000.000000  176000.000000  180000.000000   \n",
       "max    270000.000000  351000.000000  253500.000000  258000.000000   \n",
       "\n",
       "             Volume     Change  \n",
       "count  6.900000e+01  68.000000  \n",
       "mean   6.860489e+05  -0.003141  \n",
       "std    1.002552e+06   0.047283  \n",
       "min    9.701000e+04  -0.222868  \n",
       "25%    1.777060e+05  -0.022156  \n",
       "50%    3.436630e+05  -0.002755  \n",
       "75%    6.896110e+05   0.011816  \n",
       "max    6.557212e+06   0.112717  "
      ]
     },
     "execution_count": 88,
     "metadata": {},
     "output_type": "execute_result"
    }
   ],
   "source": [
    "stock_daily.describe()"
   ]
  }
 ],
 "metadata": {
  "kernelspec": {
   "display_name": "Python 3",
   "language": "python",
   "name": "python3"
  },
  "language_info": {
   "codemirror_mode": {
    "name": "ipython",
    "version": 3
   },
   "file_extension": ".py",
   "mimetype": "text/x-python",
   "name": "python",
   "nbconvert_exporter": "python",
   "pygments_lexer": "ipython3",
   "version": "3.6.9"
  }
 },
 "nbformat": 4,
 "nbformat_minor": 4
}
